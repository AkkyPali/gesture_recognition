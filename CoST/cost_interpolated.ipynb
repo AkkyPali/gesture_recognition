{
    "cells": [
        {
            "cell_type": "code",
            "execution_count": 2,
            "source": [
                "import numpy as np\n",
                "from numpy.core.numeric import False_\n",
                "import pandas as pd\n",
                "from pandas.core.series import Series\n",
                "import matplotlib.pyplot as plt \n",
                "from matplotlib import pyplot \n",
                "\n",
                "data = pd.read_csv(\"/Users/akanksha/Summer Project/archives/mtsdata_ucr/CoST/data_with_iteration.csv\")"
            ],
            "outputs": [],
            "metadata": {}
        },
        {
            "cell_type": "code",
            "execution_count": 3,
            "source": [
                "# Filter Out Variant 3 from the data.\n",
                "\n",
                "data_var3 = data[' variant'] != 3\n",
                "data = data[data_var3]\n",
                "\n",
                "max_len = max(data[' frame'])\n",
                "print('Max length is', max_len)\n",
                "\n",
                "data = data.drop(' frame', axis = 1)"
            ],
            "outputs": [
                {
                    "output_type": "stream",
                    "name": "stdout",
                    "text": [
                        "Max length is 1747\n"
                    ]
                }
            ],
            "metadata": {}
        },
        {
            "cell_type": "code",
            "execution_count": 4,
            "source": [
                "# # ---- STEP 3.a ------ divide train and test data ------\n",
                "\n",
                "# #create training data\n",
                "train = data['subject'] <= 21\n",
                "train_data = data[train]\n",
                "train_data = train_data[:1000]\n",
                "# print('Train Data -')\n",
                "# print(train_data.head)\n",
                "\n",
                "test = data['subject'] > 21\n",
                "test_data= data[test]\n",
                "print('Original Length is ', test_data.shape)\n",
                "test_data = test_data[:1000]\n",
                "print('Test Length is ', test_data.shape)"
            ],
            "outputs": [
                {
                    "output_type": "stream",
                    "name": "stdout",
                    "text": [
                        "Original Length is  (306593, 68)\n",
                        "Test Length is  (1000, 68)\n"
                    ]
                }
            ],
            "metadata": {}
        },
        {
            "cell_type": "code",
            "execution_count": 9,
            "source": [
                "# # # ---- STEP 4 ------ reshape X_train data into 3D data ------\n",
                "\n",
                "# TRAIN DATA\n",
                "exclusions = ['subject', ' variant', ' gesture', 'iteration']\n",
                "print('X train data shape', train_data.shape)\n",
                "cell_columns = [col for col in list(train_data.columns) if col not in exclusions]\n",
                "x_train_data_3d = train_data.groupby(['subject', ' variant', ' gesture', 'iteration'])[cell_columns].apply(lambda x : x.values.tolist()).tolist()\n",
                "\n",
                "print('X Train data lengths', [len(x) for x in x_train_data_3d])\n",
                "\n",
                "cell_columns = [col for col in list(train_data.columns) if col not in exclusions]\n",
                "# train_data.groupby(['subject', ' variant', ' gesture', 'iteration'])[' gesture'].apply(lambda x : print(x.values.tolist()[0]))\n",
                "y_train_data_3d = train_data.groupby(['subject', ' variant', ' gesture', 'iteration'])[' gesture'].apply(lambda x : x.values.tolist()[0]).tolist()\n",
                "\n",
                "\n",
                "# print(len(train_data.groupby(['subject', ' variant', ' gesture', 'iteration'])[' gesture'].apply(lambda x : x.values.tolist())[0]))\n",
                "\n",
                "# TEST DATA\n",
                "print('X test data shape', train_data.shape)\n",
                "cell_columns = [col for col in list(test_data.columns) if col not in exclusions]\n",
                "x_test_data_3d = test_data.groupby(['subject', ' variant', ' gesture', 'iteration'])[cell_columns].apply(lambda x : x.values.tolist()).tolist()\n",
                "\n",
                "print('X Test data lengths', [len(x) for x in x_test_data_3d])\n",
                "\n",
                "cell_columns = [col for col in list(test_data.columns) if col not in exclusions]\n",
                "y_test_data_3d = test_data.groupby(['subject', ' variant', ' gesture', 'iteration'])[' gesture'].apply(lambda x : x.values.tolist()[0]).tolist()\n",
                "# print('y test data length is',len(y_train_data_3d), len(y_train_data_3d[0]))"
            ],
            "outputs": [
                {
                    "output_type": "stream",
                    "name": "stdout",
                    "text": [
                        "X train data shape (1000, 68)\n",
                        "X Train data lengths [64, 67, 67, 88, 121, 88, 250, 255]\n",
                        "X test data shape (1000, 68)\n",
                        "X Test data lengths [211, 199, 127, 79, 91, 109, 142, 42]\n"
                    ]
                }
            ],
            "metadata": {}
        },
        {
            "cell_type": "code",
            "execution_count": 12,
            "source": [
                "# # ---- STEP 5 ------ Resample and interpolate to get equal lenght samples ------\n",
                "\n",
                "# TRAIN DATA\n",
                "x_train_interpolated = []\n",
                "for video_index in range(len(x_train_data_3d)):\n",
                "    channel = list(map(lambda x: x, x_train_data_3d[video_index]))\n",
                "    # print(channel)\n",
                "    channel_dataframe = pd.DataFrame(x_train_data_3d[video_index])\n",
                "    index = pd.timedelta_range(start=\"1 days 00:00:00\", end=str(max_len) + \" days 00:00:00\", periods=len(x_train_data_3d[video_index]))\n",
                "    \n",
                "    import datetime as datetime\n",
                "    def round_to_1day(t):\n",
                "        return t.round(freq='d')\n",
                "    index = index.map(round_to_1day)\n",
                "    channel_dataframe.set_index(index, inplace=True)\n",
                "    interpolated = channel_dataframe.resample(\"d\").interpolate(method=\"linear\")\n",
                "    # print(type(interpolated.values.tolist()))\n",
                "    x_train_interpolated.append(interpolated.values.tolist())\n",
                "\n",
                "print('X Train Interpolated data lengths', [len(x) for x in x_train_interpolated])"
            ],
            "outputs": [
                {
                    "output_type": "stream",
                    "name": "stdout",
                    "text": [
                        "X Train Interpolated data lengths [1747]\n"
                    ]
                }
            ],
            "metadata": {}
        }
    ],
    "metadata": {
        "orig_nbformat": 4,
        "language_info": {
            "name": "python",
            "version": "3.7.6",
            "mimetype": "text/x-python",
            "codemirror_mode": {
                "name": "ipython",
                "version": 3
            },
            "pygments_lexer": "ipython3",
            "nbconvert_exporter": "python",
            "file_extension": ".py"
        },
        "kernelspec": {
            "name": "python3",
            "display_name": "Python 3.7.6 64-bit (conda)"
        },
        "interpreter": {
            "hash": "ef6905b559ba95e9dc3bfdc274377854d35701982f56324b37bd09eb0048e2e7"
        }
    },
    "nbformat": 4,
    "nbformat_minor": 2
}